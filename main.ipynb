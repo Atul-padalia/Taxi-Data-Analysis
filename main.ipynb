{
 "cells": [
  {
   "attachments": {},
   "cell_type": "markdown",
   "metadata": {},
   "source": [
    "# New-York City Taxi Data Analysis"
   ]
  },
  {
   "attachments": {},
   "cell_type": "markdown",
   "metadata": {},
   "source": [
    "In this mini-project we will do the useful analysis on the taxi data of New York city using Numpy"
   ]
  },
  {
   "attachments": {},
   "cell_type": "markdown",
   "metadata": {},
   "source": [
    "### Importing libraries"
   ]
  },
  {
   "cell_type": "code",
   "execution_count": 106,
   "metadata": {},
   "outputs": [],
   "source": [
    "import numpy as np"
   ]
  },
  {
   "attachments": {},
   "cell_type": "markdown",
   "metadata": {},
   "source": [
    "### useful numpy functions"
   ]
  },
  {
   "cell_type": "code",
   "execution_count": 107,
   "metadata": {},
   "outputs": [],
   "source": [
    "#converting scientific notations values in numpy array to normal values\n",
    "np.set_printoptions(suppress=True)"
   ]
  },
  {
   "attachments": {},
   "cell_type": "markdown",
   "metadata": {},
   "source": [
    "### Converting CSV file to numpy array"
   ]
  },
  {
   "cell_type": "code",
   "execution_count": 108,
   "metadata": {},
   "outputs": [
    {
     "name": "stdout",
     "output_type": "stream",
     "text": [
      "[[2016.     1.     1.  ...    5.5   11.7    1. ]\n",
      " [2016.     1.     1.  ...    0.     8.     1. ]\n",
      " [2016.     1.     1.  ...    0.     0.     2. ]\n",
      " ...\n",
      " [2016.     6.    30.  ...    5.5    5.     1. ]\n",
      " [2016.     6.    30.  ...    0.     8.9    1. ]\n",
      " [2016.     6.    30.  ...    5.5    0.     2. ]]\n"
     ]
    }
   ],
   "source": [
    "taxi_data=np.genfromtxt(fname='nyc_taxis.csv',skip_header=True,delimiter=',')\n",
    "print(taxi_data)"
   ]
  },
  {
   "attachments": {},
   "cell_type": "markdown",
   "metadata": {},
   "source": [
    "### shape of taxi_data"
   ]
  },
  {
   "cell_type": "code",
   "execution_count": 109,
   "metadata": {},
   "outputs": [
    {
     "data": {
      "text/plain": [
       "(89560, 14)"
      ]
     },
     "execution_count": 109,
     "metadata": {},
     "output_type": "execute_result"
    }
   ],
   "source": [
    "np.shape(taxi_data)"
   ]
  },
  {
   "attachments": {},
   "cell_type": "markdown",
   "metadata": {},
   "source": [
    "So, There are total 89560 rides in 2016"
   ]
  },
  {
   "attachments": {},
   "cell_type": "markdown",
   "metadata": {},
   "source": [
    "### Distance required to book a ride"
   ]
  },
  {
   "attachments": {},
   "cell_type": "markdown",
   "metadata": {},
   "source": [
    "##### Minimum distance required"
   ]
  },
  {
   "cell_type": "code",
   "execution_count": 110,
   "metadata": {},
   "outputs": [
    {
     "name": "stdout",
     "output_type": "stream",
     "text": [
      "Minimum distance:0.0\n"
     ]
    }
   ],
   "source": [
    "distance_data=taxi_data[:,7:8]\n",
    "print(f'Minimum distance:{np.min(distance_data)}')"
   ]
  },
  {
   "attachments": {},
   "cell_type": "markdown",
   "metadata": {},
   "source": [
    "As we are getting minimum distance of 0.0 so we are removing 0.0 from our distance data "
   ]
  },
  {
   "cell_type": "code",
   "execution_count": 111,
   "metadata": {},
   "outputs": [
    {
     "name": "stdout",
     "output_type": "stream",
     "text": [
      "total distances before:89560\n",
      "total distance after:88829\n"
     ]
    }
   ],
   "source": [
    "print(f'total distances before:{len(distance_data)}')\n",
    "new_distance_data=distance_data[distance_data!=0]\n",
    "# print(new_distance_data)\n",
    "print(f'total distance after:{len(new_distance_data)}')\n",
    "\n"
   ]
  },
  {
   "attachments": {},
   "cell_type": "markdown",
   "metadata": {},
   "source": [
    "Initially total number of rides were 89560 but after removing rides with 0.0 distance, number of rides are 88959"
   ]
  },
  {
   "attachments": {},
   "cell_type": "markdown",
   "metadata": {},
   "source": [
    "##### Minimum distance after removing 0.0"
   ]
  },
  {
   "cell_type": "code",
   "execution_count": 112,
   "metadata": {},
   "outputs": [
    {
     "name": "stdout",
     "output_type": "stream",
     "text": [
      "minimum distance:0.1\n"
     ]
    }
   ],
   "source": [
    "print(f'minimum distance:{np.min(new_distance_data)}')"
   ]
  },
  {
   "attachments": {},
   "cell_type": "markdown",
   "metadata": {},
   "source": [
    "##### Maximum distance "
   ]
  },
  {
   "cell_type": "code",
   "execution_count": 113,
   "metadata": {},
   "outputs": [
    {
     "name": "stdout",
     "output_type": "stream",
     "text": [
      "Maximum distance:182.9\n"
     ]
    }
   ],
   "source": [
    "print(f'Maximum distance:{np.max(distance_data)}')"
   ]
  },
  {
   "attachments": {},
   "cell_type": "markdown",
   "metadata": {},
   "source": [
    "##### Average distance of rides"
   ]
  },
  {
   "cell_type": "code",
   "execution_count": 114,
   "metadata": {},
   "outputs": [
    {
     "name": "stdout",
     "output_type": "stream",
     "text": [
      "Average distance of rides:12\n"
     ]
    }
   ],
   "source": [
    "print(f'Average distance of rides:{np.mean(distance_data,dtype=int)}')"
   ]
  },
  {
   "attachments": {},
   "cell_type": "markdown",
   "metadata": {},
   "source": [
    "### Finding Speed of each rides"
   ]
  },
  {
   "cell_type": "code",
   "execution_count": 115,
   "metadata": {},
   "outputs": [],
   "source": [
    "# print(distance_data)\n",
    "# converting distance to metre\n",
    "distance_metre=distance_data * 1000\n",
    "# print(distance_data)\n",
    "time_data=taxi_data[:,8:9]\n",
    "# print(time_data)\n",
    "speed=distance_metre/time_data\n",
    "speed=np.round(speed,decimals=2)"
   ]
  },
  {
   "attachments": {},
   "cell_type": "markdown",
   "metadata": {},
   "source": [
    "### adding speed column to taxi data "
   ]
  },
  {
   "cell_type": "code",
   "execution_count": 116,
   "metadata": {},
   "outputs": [
    {
     "name": "stdout",
     "output_type": "stream",
     "text": [
      "[[2016.      1.      1.   ...   11.7     1.     10.31]\n",
      " [2016.      1.      1.   ...    8.      1.     10.72]\n",
      " [2016.      1.      1.   ...    0.      2.      8.69]\n",
      " ...\n",
      " [2016.      6.     30.   ...    5.      1.      6.2 ]\n",
      " [2016.      6.     30.   ...    8.9     1.     11.82]\n",
      " [2016.      6.     30.   ...    0.      2.     10.23]]\n"
     ]
    }
   ],
   "source": [
    "taxi_data=np.hstack((taxi_data,speed))\n",
    "print(taxi_data)"
   ]
  },
  {
   "attachments": {},
   "cell_type": "markdown",
   "metadata": {},
   "source": [
    "### converting array data to CSV/Excel"
   ]
  },
  {
   "attachments": {},
   "cell_type": "markdown",
   "metadata": {},
   "source": [
    "headers\n",
    "pickup_year,pickup_month,pickup_day,pickup_dayofweek,pickup_time,pickup_location_code,dropoff_location_code,trip_distance,trip_length,fare_amount,fees_amount,tolls_amount,tip_amount,total_amount,payment_type\n"
   ]
  },
  {
   "cell_type": "code",
   "execution_count": 117,
   "metadata": {},
   "outputs": [],
   "source": [
    "np.savetxt(fname='nyc_taxis.csv',\n",
    "           X=taxi_data,\n",
    "           delimiter=',',\n",
    "           header='pickup_year,pickup_month,pickup_day,pickup_dayofweek,pickup_time,pickup_location_code,dropoff_location_code,trip_distance,trip_length,fare_amount,fees_amount,tolls_amount,tip_amount,payment_type,speed'\n",
    "           ,fmt='%.1f')"
   ]
  },
  {
   "attachments": {},
   "cell_type": "markdown",
   "metadata": {},
   "source": [
    "### Finding total fare of each rides"
   ]
  },
  {
   "cell_type": "code",
   "execution_count": 125,
   "metadata": {},
   "outputs": [],
   "source": [
    "fares=taxi_data[:,9:13]\n",
    "total_fare=np.sum(fares,axis=1)\n",
    "total_fare=np.reshape(total_fare,newshape=(89560,1))\n"
   ]
  },
  {
   "attachments": {},
   "cell_type": "markdown",
   "metadata": {},
   "source": [
    "### Add total fares column to data"
   ]
  },
  {
   "cell_type": "code",
   "execution_count": 126,
   "metadata": {},
   "outputs": [
    {
     "name": "stdout",
     "output_type": "stream",
     "text": [
      "[[2016.      1.      1.   ...    1.     10.31   70.  ]\n",
      " [2016.      1.      1.   ...    1.     10.72   54.3 ]\n",
      " [2016.      1.      1.   ...    2.      8.69   37.8 ]\n",
      " ...\n",
      " [2016.      6.     30.   ...    1.      6.2    63.3 ]\n",
      " [2016.      6.     30.   ...    1.     11.82   44.7 ]\n",
      " [2016.      6.     30.   ...    2.     10.23   54.8 ]]\n"
     ]
    }
   ],
   "source": [
    "taxi_data=np.hstack((taxi_data,total_fare))\n",
    "print(taxi_data)"
   ]
  },
  {
   "attachments": {},
   "cell_type": "markdown",
   "metadata": {},
   "source": [
    "### converting Array to CSV/Excel"
   ]
  },
  {
   "cell_type": "code",
   "execution_count": 129,
   "metadata": {},
   "outputs": [],
   "source": [
    "np.savetxt(fname='nyc_taxis.csv',\n",
    "           X=taxi_data,\n",
    "           delimiter=',',\n",
    "           header='pickup_year,pickup_month,pickup_day,pickup_dayofweek,pickup_time,pickup_location_code,dropoff_location_code,trip_distance,trip_length,fare_amount,fees_amount,tolls_amount,tip_amount,payment_type,speed,total amount'\n",
    "           ,fmt='%.1f')"
   ]
  },
  {
   "cell_type": "code",
   "execution_count": null,
   "metadata": {},
   "outputs": [],
   "source": []
  }
 ],
 "metadata": {
  "kernelspec": {
   "display_name": "Python 3",
   "language": "python",
   "name": "python3"
  },
  "language_info": {
   "codemirror_mode": {
    "name": "ipython",
    "version": 3
   },
   "file_extension": ".py",
   "mimetype": "text/x-python",
   "name": "python",
   "nbconvert_exporter": "python",
   "pygments_lexer": "ipython3",
   "version": "3.11.3"
  },
  "orig_nbformat": 4
 },
 "nbformat": 4,
 "nbformat_minor": 2
}
